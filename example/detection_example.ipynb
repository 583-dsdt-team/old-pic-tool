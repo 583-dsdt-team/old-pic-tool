{
 "cells": [
  {
   "cell_type": "code",
   "execution_count": 34,
   "id": "4fc1d3ed",
   "metadata": {},
   "outputs": [],
   "source": [
    "import numpy\n",
    "import os\n",
    "import pandas\n",
    "\n",
    "import cv2\n",
    "\n",
    "rgb_df = pandas.read_csv('../data/monk_scales_rgb.csv')\n",
    "\n",
    "def complexion_detection(image_path, rounding_places=2, grayscale=False):\n",
    "    \"\"\"\n",
    "    Uses the inRange function in opencv \n",
    "    Detects % of colors from ellis monk scale in image\n",
    "    \"\"\"\n",
    "    filler = []\n",
    "    temp_image = cv2.imread(image_path)\n",
    "    for index in range(rgb_df.shape[0]):\n",
    "        upper = numpy.uint8([rgb_df['upper_b'][index], rgb_df['upper_g'][index], rgb_df['upper_r'][index]])\n",
    "        lower = numpy.uint8([rgb_df['lower_b'][index], rgb_df['lower_g'][index], rgb_df['lower_r'][index]])\n",
    "        mask = cv2.inRange(temp_image, lower, upper)\n",
    "        cur_val = (mask > 0).mean()\n",
    "        rounded_val = round(cur_val, rounding_places)\n",
    "        filler.append(rounded_val)\n",
    "    return(filler)"
   ]
  },
  {
   "cell_type": "code",
   "execution_count": 35,
   "id": "b79fdc8e",
   "metadata": {},
   "outputs": [],
   "source": [
    "arr = []\n",
    "\n",
    "for file in os.listdir('../data/practice_set'):\n",
    "    if file.startswith('crop_'):\n",
    "        arr.append(os.path.join(r'../data/practice_set', file))\n",
    "        \n",
    "arr = numpy.array(arr)"
   ]
  },
  {
   "cell_type": "code",
   "execution_count": 36,
   "id": "66841d9b",
   "metadata": {},
   "outputs": [
    {
     "data": {
      "text/plain": [
       "[0.0, 0.0, 0.0, 0.0007, 0.1578, 0.1228, 0.0997, 0.0269, 0.0032, 0.0003]"
      ]
     },
     "execution_count": 36,
     "metadata": {},
     "output_type": "execute_result"
    }
   ],
   "source": [
    "complexion_detection(arr[1], rounding_places = 4)"
   ]
  },
  {
   "cell_type": "code",
   "execution_count": 37,
   "id": "f4e0243f",
   "metadata": {},
   "outputs": [],
   "source": [
    "collection_of_results = numpy.array([complexion_detection(i, rounding_places=2) for i in arr])\n",
    "results_df = pandas.DataFrame(collection_of_results)\n",
    "results_df['paths'] = arr"
   ]
  },
  {
   "cell_type": "code",
   "execution_count": 38,
   "id": "9949d0c7",
   "metadata": {},
   "outputs": [
    {
     "data": {
      "text/html": [
       "<div>\n",
       "<style scoped>\n",
       "    .dataframe tbody tr th:only-of-type {\n",
       "        vertical-align: middle;\n",
       "    }\n",
       "\n",
       "    .dataframe tbody tr th {\n",
       "        vertical-align: top;\n",
       "    }\n",
       "\n",
       "    .dataframe thead th {\n",
       "        text-align: right;\n",
       "    }\n",
       "</style>\n",
       "<table border=\"1\" class=\"dataframe\">\n",
       "  <thead>\n",
       "    <tr style=\"text-align: right;\">\n",
       "      <th></th>\n",
       "      <th>0</th>\n",
       "      <th>1</th>\n",
       "      <th>2</th>\n",
       "      <th>3</th>\n",
       "      <th>4</th>\n",
       "      <th>5</th>\n",
       "      <th>6</th>\n",
       "      <th>7</th>\n",
       "      <th>8</th>\n",
       "      <th>9</th>\n",
       "      <th>paths</th>\n",
       "    </tr>\n",
       "  </thead>\n",
       "  <tbody>\n",
       "    <tr>\n",
       "      <th>0</th>\n",
       "      <td>0.0</td>\n",
       "      <td>0.0</td>\n",
       "      <td>0.00</td>\n",
       "      <td>0.01</td>\n",
       "      <td>0.36</td>\n",
       "      <td>0.03</td>\n",
       "      <td>0.02</td>\n",
       "      <td>0.01</td>\n",
       "      <td>0.00</td>\n",
       "      <td>0.0</td>\n",
       "      <td>./git_repo/old-picture-complexion-detection/da...</td>\n",
       "    </tr>\n",
       "    <tr>\n",
       "      <th>1</th>\n",
       "      <td>0.0</td>\n",
       "      <td>0.0</td>\n",
       "      <td>0.00</td>\n",
       "      <td>0.00</td>\n",
       "      <td>0.16</td>\n",
       "      <td>0.12</td>\n",
       "      <td>0.10</td>\n",
       "      <td>0.03</td>\n",
       "      <td>0.00</td>\n",
       "      <td>0.0</td>\n",
       "      <td>./git_repo/old-picture-complexion-detection/da...</td>\n",
       "    </tr>\n",
       "    <tr>\n",
       "      <th>2</th>\n",
       "      <td>0.0</td>\n",
       "      <td>0.0</td>\n",
       "      <td>0.00</td>\n",
       "      <td>0.01</td>\n",
       "      <td>0.34</td>\n",
       "      <td>0.09</td>\n",
       "      <td>0.06</td>\n",
       "      <td>0.01</td>\n",
       "      <td>0.00</td>\n",
       "      <td>0.0</td>\n",
       "      <td>./git_repo/old-picture-complexion-detection/da...</td>\n",
       "    </tr>\n",
       "    <tr>\n",
       "      <th>3</th>\n",
       "      <td>0.0</td>\n",
       "      <td>0.0</td>\n",
       "      <td>0.00</td>\n",
       "      <td>0.00</td>\n",
       "      <td>0.35</td>\n",
       "      <td>0.10</td>\n",
       "      <td>0.08</td>\n",
       "      <td>0.04</td>\n",
       "      <td>0.01</td>\n",
       "      <td>0.0</td>\n",
       "      <td>./git_repo/old-picture-complexion-detection/da...</td>\n",
       "    </tr>\n",
       "    <tr>\n",
       "      <th>4</th>\n",
       "      <td>0.0</td>\n",
       "      <td>0.0</td>\n",
       "      <td>0.06</td>\n",
       "      <td>0.01</td>\n",
       "      <td>0.02</td>\n",
       "      <td>0.05</td>\n",
       "      <td>0.01</td>\n",
       "      <td>0.00</td>\n",
       "      <td>0.00</td>\n",
       "      <td>0.0</td>\n",
       "      <td>./git_repo/old-picture-complexion-detection/da...</td>\n",
       "    </tr>\n",
       "  </tbody>\n",
       "</table>\n",
       "</div>"
      ],
      "text/plain": [
       "     0    1     2     3     4     5     6     7     8    9  \\\n",
       "0  0.0  0.0  0.00  0.01  0.36  0.03  0.02  0.01  0.00  0.0   \n",
       "1  0.0  0.0  0.00  0.00  0.16  0.12  0.10  0.03  0.00  0.0   \n",
       "2  0.0  0.0  0.00  0.01  0.34  0.09  0.06  0.01  0.00  0.0   \n",
       "3  0.0  0.0  0.00  0.00  0.35  0.10  0.08  0.04  0.01  0.0   \n",
       "4  0.0  0.0  0.06  0.01  0.02  0.05  0.01  0.00  0.00  0.0   \n",
       "\n",
       "                                               paths  \n",
       "0  ./git_repo/old-picture-complexion-detection/da...  \n",
       "1  ./git_repo/old-picture-complexion-detection/da...  \n",
       "2  ./git_repo/old-picture-complexion-detection/da...  \n",
       "3  ./git_repo/old-picture-complexion-detection/da...  \n",
       "4  ./git_repo/old-picture-complexion-detection/da...  "
      ]
     },
     "execution_count": 38,
     "metadata": {},
     "output_type": "execute_result"
    }
   ],
   "source": [
    "results_df"
   ]
  },
  {
   "cell_type": "code",
   "execution_count": null,
   "id": "1c39019a",
   "metadata": {},
   "outputs": [],
   "source": []
  }
 ],
 "metadata": {
  "kernelspec": {
   "display_name": "Python 3 (ipykernel)",
   "language": "python",
   "name": "python3"
  },
  "language_info": {
   "codemirror_mode": {
    "name": "ipython",
    "version": 3
   },
   "file_extension": ".py",
   "mimetype": "text/x-python",
   "name": "python",
   "nbconvert_exporter": "python",
   "pygments_lexer": "ipython3",
   "version": "3.9.12"
  }
 },
 "nbformat": 4,
 "nbformat_minor": 5
}
