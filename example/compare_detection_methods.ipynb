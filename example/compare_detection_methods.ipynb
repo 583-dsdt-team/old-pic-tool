{
 "cells": [
  {
   "cell_type": "markdown",
   "id": "9fd10a44",
   "metadata": {},
   "source": [
    "# Compare two methods of assessing skin tone"
   ]
  },
  {
   "cell_type": "markdown",
   "id": "eab4cbdc",
   "metadata": {},
   "source": [
    "This notebook demonstrates how to use the **preprocess** and **detection** functions to implement two methods of assessing skin tone in black & white photos -- then, use **conf_matrix**, **mse**, and **pcp** to assess which one worked better."
   ]
  },
  {
   "cell_type": "markdown",
   "id": "4a99ad4a",
   "metadata": {},
   "source": [
    "### Import packages"
   ]
  },
  {
   "cell_type": "markdown",
   "id": "d2944fe3",
   "metadata": {},
   "source": [
    "Import relevant dependencies:"
   ]
  },
  {
   "cell_type": "markdown",
   "id": "74393b2d",
   "metadata": {},
   "source": [
    "Set working directory to the tonelocator repo:"
   ]
  },
  {
   "cell_type": "code",
   "execution_count": 1,
   "id": "a86bd56c",
   "metadata": {},
   "outputs": [
    {
     "name": "stdout",
     "output_type": "stream",
     "text": [
      "/Users/elizabethpelletier/tonelocator\n"
     ]
    }
   ],
   "source": [
    "%cd .."
   ]
  },
  {
   "cell_type": "code",
   "execution_count": 2,
   "id": "65b55e73",
   "metadata": {},
   "outputs": [],
   "source": [
    "from tonelocator import preprocess"
   ]
  },
  {
   "cell_type": "markdown",
   "id": "ee355294",
   "metadata": {},
   "source": [
    "Set working directory to directory that contains the tonelocator repo:"
   ]
  },
  {
   "cell_type": "code",
   "execution_count": 3,
   "id": "b4dd0f03",
   "metadata": {},
   "outputs": [
    {
     "name": "stdout",
     "output_type": "stream",
     "text": [
      "/Users/elizabethpelletier\n"
     ]
    }
   ],
   "source": [
    "%cd .."
   ]
  },
  {
   "cell_type": "code",
   "execution_count": 4,
   "id": "8acb678f",
   "metadata": {},
   "outputs": [],
   "source": [
    "import os\n",
    "import sys\n",
    "import pandas as pd\n",
    "import numpy as np\n",
    "import cv2\n",
    "module_path = os.path.abspath(os.path.join('..'))\n",
    "if module_path not in sys.path:\n",
    "    sys.path.append(module_path)\n",
    "from tonelocator import detection, conf_matrix, mse, pcp\n",
    "from tonelocator.colorizer import colorizer"
   ]
  },
  {
   "cell_type": "markdown",
   "id": "5d17a711",
   "metadata": {},
   "source": [
    "### Create array of image file names and list of photos"
   ]
  },
  {
   "cell_type": "markdown",
   "id": "c859391a",
   "metadata": {},
   "source": [
    "Next, create an array that lists the file names of all the photos you want to run the tonelocator complexion detection methods on. \n",
    "\n",
    "Replace 'folder' below with the file path to a folder that will contain your photos. Fill a subfolder \"photos/examples_unprocessed\" with the photos you wish to use in this analysis."
   ]
  },
  {
   "cell_type": "code",
   "execution_count": 5,
   "id": "43b5807f",
   "metadata": {},
   "outputs": [],
   "source": [
    "# Create subfolders to contain preprocessed color photos,\n",
    "# B&W versions of those photos, and colorized versions\n",
    "# of the B&W photos\n",
    "folder = 'tonelocator/example/photos'\n",
    "!mkdir $folder/color\n",
    "!mkdir $folder/grayscale\n",
    "!mkdir $folder/colorized"
   ]
  },
  {
   "cell_type": "markdown",
   "id": "6f577c97",
   "metadata": {},
   "source": [
    "Get a list of image names and paths for the set of photos we'll work with:"
   ]
  },
  {
   "cell_type": "code",
   "execution_count": 6,
   "id": "73669d32",
   "metadata": {},
   "outputs": [
    {
     "name": "stdout",
     "output_type": "stream",
     "text": [
      "['tonelocator/example/photos/examples_unprocessed/AJ_Cook_0001.jpg'\n",
      " 'tonelocator/example/photos/examples_unprocessed/AJ_Lamas_0001.jpg'\n",
      " 'tonelocator/example/photos/examples_unprocessed/Aaron_Eckhart_0001.jpg'\n",
      " ...\n",
      " 'tonelocator/example/photos/examples_unprocessed/Zumrati_Juma_0001.jpg'\n",
      " 'tonelocator/example/photos/examples_unprocessed/Zurab_Tsereteli_0001.jpg'\n",
      " 'tonelocator/example/photos/examples_unprocessed/Zydrunas_Ilgauskas_0001.jpg']\n",
      "['AJ_Cook_0001.jpg' 'AJ_Lamas_0001.jpg' 'Aaron_Eckhart_0001.jpg' ...\n",
      " 'Zumrati_Juma_0001.jpg' 'Zurab_Tsereteli_0001.jpg'\n",
      " 'Zydrunas_Ilgauskas_0001.jpg']\n"
     ]
    }
   ],
   "source": [
    "imgpaths_preproc = []\n",
    "imgnames_preproc = []\n",
    "for file in os.listdir(folder + '/examples_unprocessed'):\n",
    "    if not file.startswith('.'):\n",
    "        imgpaths_preproc.append(os.path.join(folder + '/examples_unprocessed', file))\n",
    "        imgnames_preproc.append(file)\n",
    "imgpaths_preproc = np.sort(imgpaths_preproc)\n",
    "imgnames_preproc = np.sort(imgnames_preproc)\n",
    "print(imgpaths_preproc)\n",
    "print(imgnames_preproc)"
   ]
  },
  {
   "cell_type": "markdown",
   "id": "7b4ec956",
   "metadata": {},
   "source": [
    "### Pre-process photos"
   ]
  },
  {
   "cell_type": "markdown",
   "id": "503ae474",
   "metadata": {},
   "source": [
    "Next, pre-process the photos into three sets of files: \n",
    "1. the cropped color photos that we'll use to detect the \"true\" color composition of the photos \n",
    "2. the cropped grayscale photos that we'll use to test our B&W Monk Scale detection methods on\n",
    "3. colorized versions of the grayscale photos that we'll used to test B&W Monk Scale detection method 2\n",
    "\n",
    "The **preprocess** module crops the photos and has an option to convert them to grayscale. The **colorizer** module is used to colorize B&W photos. "
   ]
  },
  {
   "cell_type": "markdown",
   "id": "39a79918",
   "metadata": {},
   "source": [
    "Use preprocess.face_crop to create cropped color and black & white versions of the faces. Note that the preprocessor is not always able to detect a face, resulting in some errors. However, there are a small number of errors relative to the total number of photos. "
   ]
  },
  {
   "cell_type": "code",
   "execution_count": 20,
   "id": "971d773a",
   "metadata": {},
   "outputs": [
    {
     "name": "stdout",
     "output_type": "stream",
     "text": [
      "error: Andy_Roddick_0010.jpg\n",
      "error: Ariel_Sharon_0017.jpg\n",
      "error: Arnold_Schwarzenegger_0036.jpg\n",
      "error: Barbara_Boxer_0001.jpg\n",
      "error: Barbara_Esbin_0001.jpg\n",
      "error: Ben_Curtis_0001.jpg\n",
      "error: Bill_Clinton_0012.jpg\n",
      "error: Brandon_Larson_0001.jpg\n",
      "error: Brandon_Webb_0001.jpg\n",
      "error: Brian_Lara_0001.jpg\n",
      "error: Brian_Schneider_0001.jpg\n",
      "error: Budd_Schulberg_0001.jpg\n",
      "error: Buddy_Ryan_0001.jpg\n",
      "error: Charles_Mathews_0002.jpg\n",
      "error: Christian_Fittipaldi_0002.jpg\n",
      "error: Clive_Lloyd_0001.jpg\n",
      "error: Colin_Powell_0227.jpg\n",
      "error: Darvis_Patton_0001.jpg\n",
      "error: Dereck_Whittenburg_0001.jpg\n",
      "error: George_HW_Bush_0002.jpg\n",
      "error: George_P_Bush_0001.jpg\n",
      "error: Gerhard_Schroeder_0100.jpg\n",
      "error: Hernan_Diaz_0001.jpg\n",
      "error: Irwan_Fadzi_Idris_0001.jpg\n",
      "error: James_McGreevey_0002.jpg\n",
      "error: Jelena_Dokic_0004.jpg\n",
      "error: Jennifer_Capriati_0017.jpg\n",
      "error: Jerry_Rice_0001.jpg\n",
      "error: Jim_Parque_0001.jpg\n",
      "error: John_Bolton_0005.jpg\n",
      "error: John_Bolton_0008.jpg\n",
      "error: John_Burkett_0001.jpg\n",
      "error: Juan_Pablo_Montoya_0005.jpg\n",
      "error: Kate_Capshaw_0002.jpg\n",
      "error: Keith_Brown_0001.jpg\n",
      "error: Keith_Osik_0001.jpg\n",
      "error: Ken_Watanabe_0001.jpg\n",
      "error: Klaus_Schwab_0001.jpg\n",
      "error: Kobe_Bryant_0001.jpg\n",
      "error: Lawrence_Foley_0001.jpg\n",
      "error: Luis_Pujols_0001.jpg\n",
      "error: Marricia_Tate_0001.jpg\n",
      "error: Michelle_Pfeiffer_0001.jpg\n",
      "error: Mike_Bryan_0001.jpg\n",
      "error: Pele_0001.jpg\n",
      "error: Richard_Myers_0003.jpg\n",
      "error: Richard_Virenque_0001.jpg\n",
      "error: Robert_Kipkoech_Cheruiyot_0001.jpg\n",
      "error: Roy_Halladay_0001.jpg\n",
      "error: Sadam_Hassan_0001.jpg\n",
      "error: Serena_Williams_0002.jpg\n",
      "error: Shingo_Katayama_0001.jpg\n",
      "error: Silvio_Berlusconi_0015.jpg\n",
      "error: Tara_Kirk_0001.jpg\n",
      "error: Thabo_Mbeki_0004.jpg\n",
      "error: Tiger_Woods_0010.jpg\n",
      "error: Tung_Chee-hwa_0001.jpg\n",
      "error: Tzipora_Obziler_0001.jpg\n",
      "error: Vecdi_Gonul_0001.jpg\n",
      "error: Vladimir_Putin_0040.jpg\n",
      "error: Yasser_Arafat_0004.jpg\n",
      "error: Yasser_Arafat_0007.jpg\n",
      "error: Yuvraj_Singh_0001.jpg\n"
     ]
    }
   ],
   "source": [
    "# Color versions\n",
    "for pic in imgnames_preproc:\n",
    "    try:\n",
    "        face = preprocess.face_crop(image_path = os.path.join(folder + '/examples_unprocessed/' + pic),\n",
    "                                    to_gray = False,\n",
    "                                    gaussian_blur = False)\n",
    "        data=cv2.imencode('.png', face)[1].tobytes()\n",
    "        cv2.imwrite(os.path.join(folder + '/color/' + pic), face)\n",
    "    except:\n",
    "        print('error: ' + pic)"
   ]
  },
  {
   "cell_type": "code",
   "execution_count": 23,
   "id": "9788d225",
   "metadata": {},
   "outputs": [
    {
     "name": "stdout",
     "output_type": "stream",
     "text": [
      "error :Andy_Roddick_0010.jpg\n",
      "error :Ariel_Sharon_0017.jpg\n",
      "error :Arnold_Schwarzenegger_0036.jpg\n",
      "error :Barbara_Boxer_0001.jpg\n",
      "error :Barbara_Esbin_0001.jpg\n",
      "error :Ben_Curtis_0001.jpg\n",
      "error :Bill_Clinton_0012.jpg\n",
      "error :Brandon_Larson_0001.jpg\n",
      "error :Brandon_Webb_0001.jpg\n",
      "error :Brian_Lara_0001.jpg\n",
      "error :Brian_Schneider_0001.jpg\n",
      "error :Budd_Schulberg_0001.jpg\n",
      "error :Buddy_Ryan_0001.jpg\n",
      "error :Charles_Mathews_0002.jpg\n",
      "error :Christian_Fittipaldi_0002.jpg\n",
      "error :Clive_Lloyd_0001.jpg\n",
      "error :Colin_Powell_0227.jpg\n",
      "error :Darvis_Patton_0001.jpg\n",
      "error :Dereck_Whittenburg_0001.jpg\n",
      "error :George_HW_Bush_0002.jpg\n",
      "error :George_P_Bush_0001.jpg\n",
      "error :Gerhard_Schroeder_0100.jpg\n",
      "error :Hernan_Diaz_0001.jpg\n",
      "error :Irwan_Fadzi_Idris_0001.jpg\n",
      "error :James_McGreevey_0002.jpg\n",
      "error :Jelena_Dokic_0004.jpg\n",
      "error :Jennifer_Capriati_0017.jpg\n",
      "error :Jerry_Rice_0001.jpg\n",
      "error :Jesus_Cardenal_0001.jpg\n",
      "error :Jim_Parque_0001.jpg\n",
      "error :John_Bolton_0005.jpg\n",
      "error :John_Bolton_0008.jpg\n",
      "error :John_Burkett_0001.jpg\n",
      "error :Juan_Pablo_Montoya_0005.jpg\n",
      "error :Kate_Capshaw_0002.jpg\n",
      "error :Keith_Brown_0001.jpg\n",
      "error :Keith_Osik_0001.jpg\n",
      "error :Ken_Watanabe_0001.jpg\n",
      "error :Klaus_Schwab_0001.jpg\n",
      "error :Kobe_Bryant_0001.jpg\n",
      "error :Lawrence_Foley_0001.jpg\n",
      "error :Luis_Pujols_0001.jpg\n",
      "error :Marricia_Tate_0001.jpg\n",
      "error :Michelle_Pfeiffer_0001.jpg\n",
      "error :Mike_Bryan_0001.jpg\n",
      "error :Pele_0001.jpg\n",
      "error :Richard_Myers_0003.jpg\n",
      "error :Richard_Virenque_0001.jpg\n",
      "error :Robert_Kipkoech_Cheruiyot_0001.jpg\n",
      "error :Roy_Halladay_0001.jpg\n",
      "error :Sadam_Hassan_0001.jpg\n",
      "error :Serena_Williams_0002.jpg\n",
      "error :Shingo_Katayama_0001.jpg\n",
      "error :Silvio_Berlusconi_0015.jpg\n",
      "error :Tara_Kirk_0001.jpg\n",
      "error :Thabo_Mbeki_0004.jpg\n",
      "error :Tiger_Woods_0010.jpg\n",
      "error :Tung_Chee-hwa_0001.jpg\n",
      "error :Tzipora_Obziler_0001.jpg\n",
      "error :Vecdi_Gonul_0001.jpg\n",
      "error :Vladimir_Putin_0040.jpg\n",
      "error :Yasser_Arafat_0004.jpg\n",
      "error :Yasser_Arafat_0007.jpg\n",
      "error :Yuvraj_Singh_0001.jpg\n"
     ]
    }
   ],
   "source": [
    "# B&W versions\n",
    "for pic in imgnames_preproc:\n",
    "    try:\n",
    "        facegray = preprocess.face_crop(image_path = os.path.join(folder + '/examples_unprocessed/' + pic),\n",
    "                                    to_gray = True,\n",
    "                                    gaussian_blur = False)\n",
    "        data=cv2.imencode('.png', facegray)[1].tobytes()\n",
    "        cv2.imwrite(os.path.join(folder + '/grayscale/' + pic), facegray)\n",
    "    except:\n",
    "        print('error :' + pic)"
   ]
  },
  {
   "cell_type": "code",
   "execution_count": 7,
   "id": "38ad2e76",
   "metadata": {},
   "outputs": [
    {
     "name": "stdout",
     "output_type": "stream",
     "text": [
      "['tonelocator/example/photos/grayscale/AJ_Cook_0001.jpg'\n",
      " 'tonelocator/example/photos/grayscale/AJ_Lamas_0001.jpg'\n",
      " 'tonelocator/example/photos/grayscale/Aaron_Eckhart_0001.jpg' ...\n",
      " 'tonelocator/example/photos/grayscale/Zumrati_Juma_0001.jpg'\n",
      " 'tonelocator/example/photos/grayscale/Zurab_Tsereteli_0001.jpg'\n",
      " 'tonelocator/example/photos/grayscale/Zydrunas_Ilgauskas_0001.jpg']\n",
      "['AJ_Cook_0001.jpg' 'AJ_Lamas_0001.jpg' 'Aaron_Eckhart_0001.jpg' ...\n",
      " 'Zumrati_Juma_0001.jpg' 'Zurab_Tsereteli_0001.jpg'\n",
      " 'Zydrunas_Ilgauskas_0001.jpg']\n",
      "['tonelocator/example/photos/color/AJ_Cook_0001.jpg'\n",
      " 'tonelocator/example/photos/color/AJ_Lamas_0001.jpg'\n",
      " 'tonelocator/example/photos/color/Aaron_Eckhart_0001.jpg' ...\n",
      " 'tonelocator/example/photos/color/Zumrati_Juma_0001.jpg'\n",
      " 'tonelocator/example/photos/color/Zurab_Tsereteli_0001.jpg'\n",
      " 'tonelocator/example/photos/color/Zydrunas_Ilgauskas_0001.jpg']\n",
      "['AJ_Cook_0001.jpg' 'AJ_Lamas_0001.jpg' 'Aaron_Eckhart_0001.jpg' ...\n",
      " 'Zumrati_Juma_0001.jpg' 'Zurab_Tsereteli_0001.jpg'\n",
      " 'Zydrunas_Ilgauskas_0001.jpg']\n"
     ]
    }
   ],
   "source": [
    "# Gather a list of all the black & white and color images and file paths \n",
    "\n",
    "imgpaths_gray = []\n",
    "imgnames_gray = []\n",
    "for file in os.listdir(folder + '/grayscale'):\n",
    "    if not file.startswith('.'):\n",
    "        imgpaths_gray.append(os.path.join(folder + '/grayscale', file))\n",
    "        imgnames_gray.append(file.replace('gray_', ''))\n",
    "imgpaths_gray = np.sort(imgpaths_gray)\n",
    "imgnames_gray = np.sort(imgnames_gray)\n",
    "print(imgpaths_gray)\n",
    "print(imgnames_gray)\n",
    "\n",
    "imgpaths_color = []\n",
    "imgnames_color = []\n",
    "for file in os.listdir(folder + '/color'):\n",
    "    if not file.startswith('.'):\n",
    "        imgpaths_color.append(os.path.join(folder + '/color', file))\n",
    "        imgnames_color.append(file)\n",
    "imgpaths_color = np.sort(imgpaths_color)\n",
    "imgnames_color = np.sort(imgnames_color)\n",
    "print(imgpaths_color)\n",
    "print(imgnames_color)"
   ]
  },
  {
   "cell_type": "code",
   "execution_count": null,
   "id": "ae64994d",
   "metadata": {},
   "outputs": [],
   "source": [
    "# Colorize each grayscale and save in 'colorized' output folder\n",
    "for pic in imgnames_gray:\n",
    "    \"\"\"\n",
    "    Loop through every file in the grayscale folder, colorize them, and save the colorized image to the output folder.\n",
    "    \"\"\"\n",
    "    imgpath = folder + \"/grayscale/\" + pic\n",
    "    outpath = folder + \"/colorized/\" + pic\n",
    "    data=cv2.imencode('.png', colorized)[1].tobytes()\n",
    "    cv2.imwrite(outpath, colorized)"
   ]
  },
  {
   "cell_type": "code",
   "execution_count": 8,
   "id": "c46a5efc",
   "metadata": {},
   "outputs": [
    {
     "name": "stdout",
     "output_type": "stream",
     "text": [
      "['tonelocator/example/photos/colorized/AJ_Cook_0001.jpg'\n",
      " 'tonelocator/example/photos/colorized/AJ_Lamas_0001.jpg'\n",
      " 'tonelocator/example/photos/colorized/Aaron_Eckhart_0001.jpg' ...\n",
      " 'tonelocator/example/photos/colorized/Zumrati_Juma_0001.jpg'\n",
      " 'tonelocator/example/photos/colorized/Zurab_Tsereteli_0001.jpg'\n",
      " 'tonelocator/example/photos/colorized/Zydrunas_Ilgauskas_0001.jpg']\n",
      "['AJ_Cook_0001.jpg' 'AJ_Lamas_0001.jpg' 'Aaron_Eckhart_0001.jpg' ...\n",
      " 'Zumrati_Juma_0001.jpg' 'Zurab_Tsereteli_0001.jpg'\n",
      " 'Zydrunas_Ilgauskas_0001.jpg']\n"
     ]
    }
   ],
   "source": [
    "# gather names of the colorized photos and file paths \n",
    "imgpaths_colorized = []\n",
    "imgnames_colorized = []\n",
    "for file in os.listdir(folder + '/colorized'):\n",
    "    if not file.startswith('.'):\n",
    "        imgpaths_colorized.append(os.path.join(folder + '/colorized', file))\n",
    "        imgnames_colorized.append(file)\n",
    "imgpaths_colorized = np.sort(imgpaths_colorized)\n",
    "imgnames_colorized = np.sort(imgnames_colorized)\n",
    "print(imgpaths_colorized)\n",
    "print(imgnames_colorized)"
   ]
  },
  {
   "cell_type": "markdown",
   "id": "a547a10d",
   "metadata": {},
   "source": [
    "### Detect Monk scale based on color photos - the 'true' result we'll compare our detection methods to"
   ]
  },
  {
   "cell_type": "markdown",
   "id": "8f037621",
   "metadata": {},
   "source": [
    "Next, use the **complexion_detection** function to detect the color composition of the color photos. This is the 'true' result we'll use as a baseline to compare against the two methods of detecting complexion from B&W photos. "
   ]
  },
  {
   "cell_type": "code",
   "execution_count": 9,
   "id": "17d525ea",
   "metadata": {},
   "outputs": [
    {
     "data": {
      "text/html": [
       "<div>\n",
       "<style scoped>\n",
       "    .dataframe tbody tr th:only-of-type {\n",
       "        vertical-align: middle;\n",
       "    }\n",
       "\n",
       "    .dataframe tbody tr th {\n",
       "        vertical-align: top;\n",
       "    }\n",
       "\n",
       "    .dataframe thead th {\n",
       "        text-align: right;\n",
       "    }\n",
       "</style>\n",
       "<table border=\"1\" class=\"dataframe\">\n",
       "  <thead>\n",
       "    <tr style=\"text-align: right;\">\n",
       "      <th></th>\n",
       "      <th>0</th>\n",
       "      <th>1</th>\n",
       "      <th>2</th>\n",
       "      <th>3</th>\n",
       "      <th>4</th>\n",
       "      <th>5</th>\n",
       "      <th>6</th>\n",
       "      <th>7</th>\n",
       "      <th>8</th>\n",
       "      <th>9</th>\n",
       "      <th>picid</th>\n",
       "    </tr>\n",
       "  </thead>\n",
       "  <tbody>\n",
       "    <tr>\n",
       "      <th>0</th>\n",
       "      <td>0.0</td>\n",
       "      <td>0.0</td>\n",
       "      <td>0.0</td>\n",
       "      <td>0.0</td>\n",
       "      <td>0.44</td>\n",
       "      <td>0.12</td>\n",
       "      <td>0.04</td>\n",
       "      <td>0.00</td>\n",
       "      <td>0.00</td>\n",
       "      <td>0.0</td>\n",
       "      <td>AJ_Cook_0001.jpg</td>\n",
       "    </tr>\n",
       "    <tr>\n",
       "      <th>1</th>\n",
       "      <td>0.0</td>\n",
       "      <td>0.0</td>\n",
       "      <td>0.0</td>\n",
       "      <td>0.0</td>\n",
       "      <td>0.25</td>\n",
       "      <td>0.05</td>\n",
       "      <td>0.05</td>\n",
       "      <td>0.01</td>\n",
       "      <td>0.00</td>\n",
       "      <td>0.0</td>\n",
       "      <td>AJ_Lamas_0001.jpg</td>\n",
       "    </tr>\n",
       "    <tr>\n",
       "      <th>2</th>\n",
       "      <td>0.0</td>\n",
       "      <td>0.0</td>\n",
       "      <td>0.0</td>\n",
       "      <td>0.0</td>\n",
       "      <td>0.30</td>\n",
       "      <td>0.09</td>\n",
       "      <td>0.08</td>\n",
       "      <td>0.04</td>\n",
       "      <td>0.01</td>\n",
       "      <td>0.0</td>\n",
       "      <td>Aaron_Eckhart_0001.jpg</td>\n",
       "    </tr>\n",
       "    <tr>\n",
       "      <th>3</th>\n",
       "      <td>0.0</td>\n",
       "      <td>0.0</td>\n",
       "      <td>0.0</td>\n",
       "      <td>0.0</td>\n",
       "      <td>0.28</td>\n",
       "      <td>0.08</td>\n",
       "      <td>0.15</td>\n",
       "      <td>0.03</td>\n",
       "      <td>0.00</td>\n",
       "      <td>0.0</td>\n",
       "      <td>Aaron_Guiel_0001.jpg</td>\n",
       "    </tr>\n",
       "    <tr>\n",
       "      <th>4</th>\n",
       "      <td>0.0</td>\n",
       "      <td>0.0</td>\n",
       "      <td>0.0</td>\n",
       "      <td>0.0</td>\n",
       "      <td>0.29</td>\n",
       "      <td>0.00</td>\n",
       "      <td>0.01</td>\n",
       "      <td>0.01</td>\n",
       "      <td>0.00</td>\n",
       "      <td>0.0</td>\n",
       "      <td>Aaron_Patterson_0001.jpg</td>\n",
       "    </tr>\n",
       "  </tbody>\n",
       "</table>\n",
       "</div>"
      ],
      "text/plain": [
       "     0    1    2    3     4     5     6     7     8    9  \\\n",
       "0  0.0  0.0  0.0  0.0  0.44  0.12  0.04  0.00  0.00  0.0   \n",
       "1  0.0  0.0  0.0  0.0  0.25  0.05  0.05  0.01  0.00  0.0   \n",
       "2  0.0  0.0  0.0  0.0  0.30  0.09  0.08  0.04  0.01  0.0   \n",
       "3  0.0  0.0  0.0  0.0  0.28  0.08  0.15  0.03  0.00  0.0   \n",
       "4  0.0  0.0  0.0  0.0  0.29  0.00  0.01  0.01  0.00  0.0   \n",
       "\n",
       "                      picid  \n",
       "0          AJ_Cook_0001.jpg  \n",
       "1         AJ_Lamas_0001.jpg  \n",
       "2    Aaron_Eckhart_0001.jpg  \n",
       "3      Aaron_Guiel_0001.jpg  \n",
       "4  Aaron_Patterson_0001.jpg  "
      ]
     },
     "execution_count": 9,
     "metadata": {},
     "output_type": "execute_result"
    }
   ],
   "source": [
    "true_results = np.array([detection.complexion_detection(i, rounding_places=2, grayscale=False) \n",
    "                                  for i in imgpaths_color])\n",
    "true_df = pd.DataFrame(true_results)\n",
    "true_df['picid'] = imgnames_color\n",
    "true_df.head()"
   ]
  },
  {
   "cell_type": "markdown",
   "id": "b70cfee9",
   "metadata": {},
   "source": [
    "### METHOD 1: Detect Monk scale based on B&W versions of color photos and reference to B&W Monk scale"
   ]
  },
  {
   "cell_type": "code",
   "execution_count": 10,
   "id": "d61ff1c7",
   "metadata": {},
   "outputs": [
    {
     "data": {
      "text/html": [
       "<div>\n",
       "<style scoped>\n",
       "    .dataframe tbody tr th:only-of-type {\n",
       "        vertical-align: middle;\n",
       "    }\n",
       "\n",
       "    .dataframe tbody tr th {\n",
       "        vertical-align: top;\n",
       "    }\n",
       "\n",
       "    .dataframe thead th {\n",
       "        text-align: right;\n",
       "    }\n",
       "</style>\n",
       "<table border=\"1\" class=\"dataframe\">\n",
       "  <thead>\n",
       "    <tr style=\"text-align: right;\">\n",
       "      <th></th>\n",
       "      <th>0</th>\n",
       "      <th>1</th>\n",
       "      <th>2</th>\n",
       "      <th>3</th>\n",
       "      <th>4</th>\n",
       "      <th>5</th>\n",
       "      <th>6</th>\n",
       "      <th>7</th>\n",
       "      <th>8</th>\n",
       "      <th>9</th>\n",
       "      <th>picid</th>\n",
       "    </tr>\n",
       "  </thead>\n",
       "  <tbody>\n",
       "    <tr>\n",
       "      <th>0</th>\n",
       "      <td>0.0</td>\n",
       "      <td>0.0</td>\n",
       "      <td>0.0</td>\n",
       "      <td>0.00</td>\n",
       "      <td>0.48</td>\n",
       "      <td>0.23</td>\n",
       "      <td>0.14</td>\n",
       "      <td>0.07</td>\n",
       "      <td>0.03</td>\n",
       "      <td>0.01</td>\n",
       "      <td>AJ_Cook_0001.jpg</td>\n",
       "    </tr>\n",
       "    <tr>\n",
       "      <th>1</th>\n",
       "      <td>0.0</td>\n",
       "      <td>0.0</td>\n",
       "      <td>0.0</td>\n",
       "      <td>0.01</td>\n",
       "      <td>0.32</td>\n",
       "      <td>0.25</td>\n",
       "      <td>0.13</td>\n",
       "      <td>0.07</td>\n",
       "      <td>0.05</td>\n",
       "      <td>0.02</td>\n",
       "      <td>AJ_Lamas_0001.jpg</td>\n",
       "    </tr>\n",
       "    <tr>\n",
       "      <th>2</th>\n",
       "      <td>0.0</td>\n",
       "      <td>0.0</td>\n",
       "      <td>0.0</td>\n",
       "      <td>0.02</td>\n",
       "      <td>0.44</td>\n",
       "      <td>0.18</td>\n",
       "      <td>0.18</td>\n",
       "      <td>0.11</td>\n",
       "      <td>0.04</td>\n",
       "      <td>0.01</td>\n",
       "      <td>Aaron_Eckhart_0001.jpg</td>\n",
       "    </tr>\n",
       "    <tr>\n",
       "      <th>3</th>\n",
       "      <td>0.0</td>\n",
       "      <td>0.0</td>\n",
       "      <td>0.0</td>\n",
       "      <td>0.00</td>\n",
       "      <td>0.32</td>\n",
       "      <td>0.22</td>\n",
       "      <td>0.28</td>\n",
       "      <td>0.15</td>\n",
       "      <td>0.02</td>\n",
       "      <td>0.00</td>\n",
       "      <td>Aaron_Guiel_0001.jpg</td>\n",
       "    </tr>\n",
       "    <tr>\n",
       "      <th>4</th>\n",
       "      <td>0.0</td>\n",
       "      <td>0.0</td>\n",
       "      <td>0.0</td>\n",
       "      <td>0.00</td>\n",
       "      <td>0.45</td>\n",
       "      <td>0.21</td>\n",
       "      <td>0.19</td>\n",
       "      <td>0.17</td>\n",
       "      <td>0.00</td>\n",
       "      <td>0.00</td>\n",
       "      <td>Aaron_Patterson_0001.jpg</td>\n",
       "    </tr>\n",
       "  </tbody>\n",
       "</table>\n",
       "</div>"
      ],
      "text/plain": [
       "     0    1    2     3     4     5     6     7     8     9  \\\n",
       "0  0.0  0.0  0.0  0.00  0.48  0.23  0.14  0.07  0.03  0.01   \n",
       "1  0.0  0.0  0.0  0.01  0.32  0.25  0.13  0.07  0.05  0.02   \n",
       "2  0.0  0.0  0.0  0.02  0.44  0.18  0.18  0.11  0.04  0.01   \n",
       "3  0.0  0.0  0.0  0.00  0.32  0.22  0.28  0.15  0.02  0.00   \n",
       "4  0.0  0.0  0.0  0.00  0.45  0.21  0.19  0.17  0.00  0.00   \n",
       "\n",
       "                      picid  \n",
       "0          AJ_Cook_0001.jpg  \n",
       "1         AJ_Lamas_0001.jpg  \n",
       "2    Aaron_Eckhart_0001.jpg  \n",
       "3      Aaron_Guiel_0001.jpg  \n",
       "4  Aaron_Patterson_0001.jpg  "
      ]
     },
     "execution_count": 10,
     "metadata": {},
     "output_type": "execute_result"
    }
   ],
   "source": [
    "m1_results = np.array([detection.complexion_detection(i, \n",
    "                                                      rounding_places=2,\n",
    "                                                     grayscale=True) \n",
    "                                  for i in imgpaths_gray])\n",
    "m1pred_df = pd.DataFrame(m1_results)\n",
    "m1pred_df['picid'] = imgnames_gray\n",
    "m1pred_df.head()"
   ]
  },
  {
   "cell_type": "markdown",
   "id": "fe1f7ac8",
   "metadata": {},
   "source": [
    "### METHOD 2: Detect Monk scale based on colorized photo"
   ]
  },
  {
   "cell_type": "code",
   "execution_count": 11,
   "id": "d0d30aca",
   "metadata": {},
   "outputs": [
    {
     "data": {
      "text/html": [
       "<div>\n",
       "<style scoped>\n",
       "    .dataframe tbody tr th:only-of-type {\n",
       "        vertical-align: middle;\n",
       "    }\n",
       "\n",
       "    .dataframe tbody tr th {\n",
       "        vertical-align: top;\n",
       "    }\n",
       "\n",
       "    .dataframe thead th {\n",
       "        text-align: right;\n",
       "    }\n",
       "</style>\n",
       "<table border=\"1\" class=\"dataframe\">\n",
       "  <thead>\n",
       "    <tr style=\"text-align: right;\">\n",
       "      <th></th>\n",
       "      <th>0</th>\n",
       "      <th>1</th>\n",
       "      <th>2</th>\n",
       "      <th>3</th>\n",
       "      <th>4</th>\n",
       "      <th>5</th>\n",
       "      <th>6</th>\n",
       "      <th>7</th>\n",
       "      <th>8</th>\n",
       "      <th>9</th>\n",
       "      <th>picid</th>\n",
       "    </tr>\n",
       "  </thead>\n",
       "  <tbody>\n",
       "    <tr>\n",
       "      <th>0</th>\n",
       "      <td>0.0</td>\n",
       "      <td>0.0</td>\n",
       "      <td>0.0</td>\n",
       "      <td>0.0</td>\n",
       "      <td>0.36</td>\n",
       "      <td>0.03</td>\n",
       "      <td>0.01</td>\n",
       "      <td>0.00</td>\n",
       "      <td>0.0</td>\n",
       "      <td>0.0</td>\n",
       "      <td>AJ_Cook_0001.jpg</td>\n",
       "    </tr>\n",
       "    <tr>\n",
       "      <th>1</th>\n",
       "      <td>0.0</td>\n",
       "      <td>0.0</td>\n",
       "      <td>0.0</td>\n",
       "      <td>0.0</td>\n",
       "      <td>0.24</td>\n",
       "      <td>0.07</td>\n",
       "      <td>0.04</td>\n",
       "      <td>0.01</td>\n",
       "      <td>0.0</td>\n",
       "      <td>0.0</td>\n",
       "      <td>AJ_Lamas_0001.jpg</td>\n",
       "    </tr>\n",
       "    <tr>\n",
       "      <th>2</th>\n",
       "      <td>0.0</td>\n",
       "      <td>0.0</td>\n",
       "      <td>0.0</td>\n",
       "      <td>0.0</td>\n",
       "      <td>0.28</td>\n",
       "      <td>0.04</td>\n",
       "      <td>0.01</td>\n",
       "      <td>0.00</td>\n",
       "      <td>0.0</td>\n",
       "      <td>0.0</td>\n",
       "      <td>Aaron_Eckhart_0001.jpg</td>\n",
       "    </tr>\n",
       "    <tr>\n",
       "      <th>3</th>\n",
       "      <td>0.0</td>\n",
       "      <td>0.0</td>\n",
       "      <td>0.0</td>\n",
       "      <td>0.0</td>\n",
       "      <td>0.23</td>\n",
       "      <td>0.04</td>\n",
       "      <td>0.02</td>\n",
       "      <td>0.00</td>\n",
       "      <td>0.0</td>\n",
       "      <td>0.0</td>\n",
       "      <td>Aaron_Guiel_0001.jpg</td>\n",
       "    </tr>\n",
       "    <tr>\n",
       "      <th>4</th>\n",
       "      <td>0.0</td>\n",
       "      <td>0.0</td>\n",
       "      <td>0.0</td>\n",
       "      <td>0.0</td>\n",
       "      <td>0.20</td>\n",
       "      <td>0.03</td>\n",
       "      <td>0.01</td>\n",
       "      <td>0.00</td>\n",
       "      <td>0.0</td>\n",
       "      <td>0.0</td>\n",
       "      <td>Aaron_Patterson_0001.jpg</td>\n",
       "    </tr>\n",
       "  </tbody>\n",
       "</table>\n",
       "</div>"
      ],
      "text/plain": [
       "     0    1    2    3     4     5     6     7    8    9  \\\n",
       "0  0.0  0.0  0.0  0.0  0.36  0.03  0.01  0.00  0.0  0.0   \n",
       "1  0.0  0.0  0.0  0.0  0.24  0.07  0.04  0.01  0.0  0.0   \n",
       "2  0.0  0.0  0.0  0.0  0.28  0.04  0.01  0.00  0.0  0.0   \n",
       "3  0.0  0.0  0.0  0.0  0.23  0.04  0.02  0.00  0.0  0.0   \n",
       "4  0.0  0.0  0.0  0.0  0.20  0.03  0.01  0.00  0.0  0.0   \n",
       "\n",
       "                      picid  \n",
       "0          AJ_Cook_0001.jpg  \n",
       "1         AJ_Lamas_0001.jpg  \n",
       "2    Aaron_Eckhart_0001.jpg  \n",
       "3      Aaron_Guiel_0001.jpg  \n",
       "4  Aaron_Patterson_0001.jpg  "
      ]
     },
     "execution_count": 11,
     "metadata": {},
     "output_type": "execute_result"
    }
   ],
   "source": [
    "m2_results = np.array([detection.complexion_detection(i, \n",
    "                                                      rounding_places=2,\n",
    "                                                     grayscale=False) \n",
    "                                  for i in imgpaths_colorized])\n",
    "m2pred_df = pd.DataFrame(m2_results)\n",
    "m2pred_df['picid'] = imgnames_colorized\n",
    "m2pred_df.head()"
   ]
  },
  {
   "cell_type": "markdown",
   "id": "3d6408b5",
   "metadata": {},
   "source": [
    "### Compare effectiveness of each method"
   ]
  },
  {
   "cell_type": "markdown",
   "id": "beaeb48f",
   "metadata": {},
   "source": [
    "First, make sure that the IDs in each dataset are the same and uniquely identify the photos. Otherwise, you'll get errors in the conf_matrix, mse, and pcp functions."
   ]
  },
  {
   "cell_type": "code",
   "execution_count": 18,
   "id": "536b8bba",
   "metadata": {},
   "outputs": [
    {
     "name": "stdout",
     "output_type": "stream",
     "text": [
      "13170\n",
      "13169\n"
     ]
    }
   ],
   "source": [
    "# preprocess dataframes so that all picid's in the true DF are in the pred DF and vice versa\n",
    "picids = list(m1pred_df['picid'])\n",
    "inpred = true_df.picid.isin(picids)\n",
    "true_df_final = true_df[inpred]\n",
    "print(len(true_df))\n",
    "print(len(true_df_final))\n",
    "# one row dropped from true_df"
   ]
  },
  {
   "cell_type": "code",
   "execution_count": 19,
   "id": "674757d5",
   "metadata": {},
   "outputs": [
    {
     "name": "stdout",
     "output_type": "stream",
     "text": [
      "13169\n",
      "13169\n"
     ]
    }
   ],
   "source": [
    "# preprocess dataframes so that all picid's in the true DF are in the pred DF and vice versa\n",
    "picids = list(true_df_final['picid'])\n",
    "inpred = m1pred_df.picid.isin(picids)\n",
    "m1pred_df_final = m1pred_df[inpred]\n",
    "print(len(m1pred_df))\n",
    "print(len(m1pred_df_final))\n",
    "# all IDs in m1pred are in true"
   ]
  },
  {
   "cell_type": "code",
   "execution_count": 22,
   "id": "2dcb943e",
   "metadata": {},
   "outputs": [
    {
     "name": "stdout",
     "output_type": "stream",
     "text": [
      "13169\n",
      "13169\n"
     ]
    }
   ],
   "source": [
    "# preprocess dataframes so that all picid's in the true DF are in the pred DF and vice versa\n",
    "picids = list(true_df_final['picid'])\n",
    "inpred = m2pred_df.picid.isin(picids)\n",
    "m2pred_df_final = m2pred_df[inpred]\n",
    "print(len(m2pred_df))\n",
    "print(len(m2pred_df_final))\n",
    "# all IDs in m2pred are in true"
   ]
  },
  {
   "cell_type": "markdown",
   "id": "9f7a87d2",
   "metadata": {},
   "source": [
    "Next, create a confusion matrix for each method. "
   ]
  },
  {
   "cell_type": "code",
   "execution_count": 20,
   "id": "c0fa011b",
   "metadata": {},
   "outputs": [
    {
     "data": {
      "text/plain": [
       "<sklearn.metrics._plot.confusion_matrix.ConfusionMatrixDisplay at 0x16b37ee80>"
      ]
     },
     "execution_count": 20,
     "metadata": {},
     "output_type": "execute_result"
    },
    {
     "data": {
      "image/png": "[encoded data removed]",
      "text/plain": [
       "<Figure size 640x480 with 2 Axes>"
      ]
     },
     "metadata": {},
     "output_type": "display_data"
    }
   ],
   "source": [
    "conf_matrix.conf_matrix(true=true_df_final, pred=m1pred_df_final).plot()"
   ]
  },
  {
   "cell_type": "code",
   "execution_count": 23,
   "id": "c5cb7aeb",
   "metadata": {},
   "outputs": [
    {
     "data": {
      "text/plain": [
       "<sklearn.metrics._plot.confusion_matrix.ConfusionMatrixDisplay at 0x280bf2340>"
      ]
     },
     "execution_count": 23,
     "metadata": {},
     "output_type": "execute_result"
    },
    {
     "data": {
      "image/png": "[encoded data removed]",
      "text/plain": [
       "<Figure size 640x480 with 2 Axes>"
      ]
     },
     "metadata": {},
     "output_type": "display_data"
    }
   ],
   "source": [
    "conf_matrix.conf_matrix(true=true_df_final, pred=m2pred_df_final).plot()"
   ]
  },
  {
   "cell_type": "markdown",
   "id": "248bc81d",
   "metadata": {},
   "source": [
    "The confusion matrices suggest that Method 2 performed better than Method 1."
   ]
  },
  {
   "cell_type": "code",
   "execution_count": 28,
   "id": "c64fff2a",
   "metadata": {},
   "outputs": [
    {
     "name": "stdout",
     "output_type": "stream",
     "text": [
      "Share correctly predicted, Method 1: 0.819\n",
      "Share correctly predicted, Method 2: 0.913\n"
     ]
    }
   ],
   "source": [
    "print('Share correctly predicted, Method 1: ' + \n",
    "      str(round(pcp.pcp(true = true_df_final, pred = m1pred_df_final), 3)))\n",
    "print('Share correctly predicted, Method 2: ' + \n",
    "      str(round(pcp.pcp(true = true_df_final, pred = m2pred_df_final), 3)))"
   ]
  },
  {
   "cell_type": "markdown",
   "id": "47b1549c",
   "metadata": {},
   "source": [
    "The percent correctly predicted was also higher for Method 2. "
   ]
  },
  {
   "cell_type": "markdown",
   "id": "9321ec39",
   "metadata": {},
   "source": [
    "Calculate the MSE for each method:"
   ]
  },
  {
   "cell_type": "code",
   "execution_count": 34,
   "id": "80988fcb",
   "metadata": {},
   "outputs": [
    {
     "name": "stdout",
     "output_type": "stream",
     "text": [
      "MSE, method 1: 0.01\n",
      "MSE, method 2: 0.001\n"
     ]
    }
   ],
   "source": [
    "print('MSE, method 1: ' +\n",
    "      str(round(mse.mse(true=true_df_final, pred=m1pred_df_final, bybin=False), 3)))\n",
    "print('MSE, method 2: ' +\n",
    "      str(round(mse.mse(true=true_df_final, pred=m2pred_df_final, bybin=False), 3)))"
   ]
  },
  {
   "cell_type": "markdown",
   "id": "9bf35950",
   "metadata": {},
   "source": [
    "The mean squared error of the second method, using the colorizer, is lower than the MSE for the first method. "
   ]
  }
 ],
 "metadata": {
  "kernelspec": {
   "display_name": "Python 3 (ipykernel)",
   "language": "python",
   "name": "python3"
  },
  "language_info": {
   "codemirror_mode": {
    "name": "ipython",
    "version": 3
   },
   "file_extension": ".py",
   "mimetype": "text/x-python",
   "name": "python",
   "nbconvert_exporter": "python",
   "pygments_lexer": "ipython3",
   "version": "3.9.12"
  }
 },
 "nbformat": 4,
 "nbformat_minor": 5
}
