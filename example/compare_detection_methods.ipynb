{
 "cells": [
  {
   "cell_type": "markdown",
   "id": "9fd10a44",
   "metadata": {},
   "source": [
    "# Compare two methods of assessing skin tone"
   ]
  },
  {
   "cell_type": "markdown",
   "id": "fb92cc95",
   "metadata": {},
   "source": [
    "This notebook demonstrates how to use the **preprocess** and **detection** functions to implement two methods of assessing skin tone in black & white photos -- then, use **conf_matrix**, **mse**, and **OTHER FIT MODULES**? to assess which one worked better."
   ]
  },
  {
   "cell_type": "markdown",
   "id": "f8681464",
   "metadata": {},
   "source": [
    "### Import packages"
   ]
  },
  {
   "cell_type": "markdown",
   "id": "ed927abf",
   "metadata": {},
   "source": [
    "First, import relevant dependencies:"
   ]
  },
  {
   "cell_type": "code",
   "execution_count": null,
   "id": "a86bd56c",
   "metadata": {},
   "outputs": [],
   "source": [
    "import os\n",
    "import sys\n",
    "import pandas as pd\n",
    "import numpy as np\n",
    "module_path = os.path.abspath(os.path.join('..'))\n",
    "if module_path not in sys.path:\n",
    "    sys.path.append(module_path)\n",
    "from tonelocator import preprocess, detection, colorizer, conf_matrix"
   ]
  },
  {
   "cell_type": "markdown",
   "id": "2b9afbe0",
   "metadata": {},
   "source": [
    "### Create array of image file names"
   ]
  },
  {
   "cell_type": "markdown",
   "id": "c80b9776",
   "metadata": {},
   "source": [
    "Next, create an array that lists the file names of all the photos you want to run the tonelocator complexion detection methods on. \n",
    "\n",
    "Replace 'folder' below with the file path to the folder your photos are in."
   ]
  },
  {
   "cell_type": "code",
   "execution_count": null,
   "id": "73669d32",
   "metadata": {},
   "outputs": [],
   "source": [
    "#TODO: replace with the correct folder and a set of unprocessed photos\n",
    "arr = []\n",
    "folder = '../tonelocator/data/practice_set'\n",
    "for file in os.listdir(folder):\n",
    "    arr.append(os.path.join(folder, file))\n",
    "arr = np.array(arr)"
   ]
  },
  {
   "cell_type": "markdown",
   "id": "e81f1a91",
   "metadata": {},
   "source": [
    "### Pre-process photos"
   ]
  },
  {
   "cell_type": "markdown",
   "id": "298495ab",
   "metadata": {},
   "source": [
    "Next, pre-process the photos into three sets of files: \n",
    "1. the color photos that we'll use to detect the \"true\" color composition of the photos \n",
    "2. the grayscale photos that we'll use to test our B&W Monk Scale detection methods on\n",
    "3. colorized versions of the grayscale photos that we'll used to test B&W Monk Scale detection method 2\n",
    "\n",
    "The **preprocess** module crops the photos and has an option to convert them to grayscale. The **colorizer** module is used to colorize B&W photos. "
   ]
  },
  {
   "cell_type": "code",
   "execution_count": null,
   "id": "0497c4bd",
   "metadata": {},
   "outputs": [],
   "source": [
    "#Create subfolders to contain preprocessed color photos,\n",
    "# B&W versions of those photos, and colorized versions\n",
    "# of the B&W photos\n",
    "folder = '../tonelocator/data/practice_set'\n",
    "!mkdir $folder/color\n",
    "!mkdir $folder/grayscale\n",
    "!mkdir $folder/colorized\n",
    "\n",
    "# TODO: add code to save set of preprocessed pics in respective folders (color & grayscale)\n",
    "preprocess(i) for i in arr\n",
    "etc\n",
    "\n",
    "# TODO: add colorizer code\n",
    "\n",
    "#RETURN: three arrays of the links to the color, grayscale, and colorized photos:\n",
    "\n",
    "#arr_color\n",
    "#arr_grayscale\n",
    "#arr_colorized\n"
   ]
  },
  {
   "cell_type": "markdown",
   "id": "21682ed5",
   "metadata": {},
   "source": [
    "### Detect Monk scale based on color photos - the 'true' result we'll compare our detection methods to"
   ]
  },
  {
   "cell_type": "markdown",
   "id": "d95f613e",
   "metadata": {},
   "source": [
    "Next, use the **complexion_detection** function to detect the color composition of the color photos. This is the 'true' result we'll use as a baseline to compare against the two methods of detecting complexion from B&W photos. "
   ]
  },
  {
   "cell_type": "code",
   "execution_count": null,
   "id": "89c3b5b7",
   "metadata": {},
   "outputs": [],
   "source": [
    "true_results = np.array([detection.complexion_detection(i, rounding_places=2) \n",
    "                                  for i in arr_color])\n",
    "true_df = pd.DataFrame(true_results)\n",
    "true_df['picid'] = arr_color\n",
    "# TODO: fix picid to be a numeric identifier"
   ]
  },
  {
   "cell_type": "markdown",
   "id": "d16a38bf",
   "metadata": {},
   "source": [
    "### METHOD 1: Detect Monk scale based on B&W versions of color photos and reference to B&W Monk scale"
   ]
  },
  {
   "cell_type": "code",
   "execution_count": null,
   "id": "c0f21fee",
   "metadata": {},
   "outputs": [],
   "source": [
    "m1_results = np.array([detection.complexion_detection(i, \n",
    "                                                      rounding_places=2,\n",
    "                                                     grayscale=True) \n",
    "                                  for i in arr_grayscale])\n",
    "m1pred_df = pd.DataFrame(m1_results)\n",
    "m1pred_df['picid'] = arr_color\n",
    "# TODO: fix picid to be a numeric identifier"
   ]
  },
  {
   "cell_type": "markdown",
   "id": "30304a10",
   "metadata": {},
   "source": [
    "### METHOD 2: Detect Monk scale based on colorized photo"
   ]
  },
  {
   "cell_type": "code",
   "execution_count": null,
   "id": "7d880bb1",
   "metadata": {},
   "outputs": [],
   "source": [
    "m2_results = np.array([detection.complexion_detection(i, \n",
    "                                                      rounding_places=2,\n",
    "                                                     grayscale=False) \n",
    "                                  for i in arr_colorized])\n",
    "m2pred_df = pd.DataFrame(m2_results)\n",
    "m2pred_df['picid'] = arr_colorized\n",
    "# TODO: fix picid to be a numeric identifier"
   ]
  },
  {
   "cell_type": "markdown",
   "id": "639c3984",
   "metadata": {},
   "source": [
    "### Compare effectiveness of each method"
   ]
  },
  {
   "cell_type": "markdown",
   "id": "41a593c8",
   "metadata": {},
   "source": [
    "First, create a confusion matrix for each method. "
   ]
  },
  {
   "cell_type": "code",
   "execution_count": null,
   "id": "360de514",
   "metadata": {},
   "outputs": [],
   "source": [
    "conf_matrix(true=true_df, pred=m1pred_df).plot()"
   ]
  },
  {
   "cell_type": "code",
   "execution_count": null,
   "id": "ffab38bb",
   "metadata": {},
   "outputs": [],
   "source": [
    "conf_matrix(true=true_df, pred=m2pred_df).plot()"
   ]
  },
  {
   "cell_type": "markdown",
   "id": "78a6386d",
   "metadata": {},
   "source": [
    "Calculate the MSE for each method:"
   ]
  },
  {
   "cell_type": "code",
   "execution_count": null,
   "id": "50031a26",
   "metadata": {},
   "outputs": [],
   "source": [
    "print(mse(true=true_df, pred=m1pred_df, bybin=False))\n",
    "print(mse(true=true_df, pred=m2pred_df, bybin=False))"
   ]
  },
  {
   "cell_type": "markdown",
   "id": "d3815046",
   "metadata": {},
   "source": [
    "The MSE is higher for X method and the confusion matrix suggests the fit is better for X method - this is probably because XYZ"
   ]
  }
 ],
 "metadata": {
  "kernelspec": {
   "display_name": "Python 3 (ipykernel)",
   "language": "python",
   "name": "python3"
  },
  "language_info": {
   "codemirror_mode": {
    "name": "ipython",
    "version": 3
   },
   "file_extension": ".py",
   "mimetype": "text/x-python",
   "name": "python",
   "nbconvert_exporter": "python",
   "pygments_lexer": "ipython3",
   "version": "3.9.12"
  }
 },
 "nbformat": 4,
 "nbformat_minor": 5
}
